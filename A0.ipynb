{
  "nbformat": 4,
  "nbformat_minor": 0,
  "metadata": {
    "colab": {
      "name": "A0.ipynb",
      "provenance": [],
      "collapsed_sections": [],
      "toc_visible": true
    },
    "kernelspec": {
      "display_name": "Python 3",
      "language": "python",
      "name": "python3"
    },
    "language_info": {
      "codemirror_mode": {
        "name": "ipython",
        "version": 3
      },
      "file_extension": ".py",
      "mimetype": "text/x-python",
      "name": "python",
      "nbconvert_exporter": "python",
      "pygments_lexer": "ipython3",
      "version": "3.8.3"
    }
  },
  "cells": [
    {
      "cell_type": "markdown",
      "metadata": {
        "deletable": false,
        "id": "xZ7H7FmcDw5B",
        "tags": [
          "instructions"
        ]
      },
      "source": [
        "## CS431/631 Data Intensive Distributed Analytics\n",
        "### Winter 2021 - Assignment 0\n",
        "---"
      ]
    },
    {
      "cell_type": "markdown",
      "metadata": {
        "deletable": false,
        "id": "F4K1ZTGrDw5E",
        "tags": [
          "instructions"
        ]
      },
      "source": [
        "**Please edit this (text) cell to provide your name and UW student ID number!**\n",
        "* **Name:** Yifu Zhang\n",
        "* **ID:**  y2644zha"
      ]
    },
    {
      "cell_type": "markdown",
      "metadata": {
        "id": "pBJ1H1i_ENGE"
      },
      "source": [
        "For this assignment, you will be using Python to do some analysis of the text of Shakespeare's plays.   Run the next block to download the text file (`Shakespeare.txt`) and the Python tokenizer module (`simple_tokenize.py`)."
      ]
    },
    {
      "cell_type": "code",
      "metadata": {
        "id": "rcXDTtuqENqF"
      },
      "source": [
        "!wget -q https://student.cs.uwaterloo.ca/~cs451/content/cs431/Shakespeare.txt\n",
        "!wget -q https://student.cs.uwaterloo.ca/~cs451/content/cs431/simple_tokenize.py"
      ],
      "execution_count": 2,
      "outputs": []
    },
    {
      "cell_type": "markdown",
      "metadata": {
        "deletable": false,
        "id": "yDOanRXeDw5F",
        "tags": [
          "instructions"
        ]
      },
      "source": [
        "---\n",
        "\n",
        "\n",
        "Let's first try running some simple Python code to make sure that everything is set up properly and ready to go.   The code in the next box will open `Shakespeare.txt`, read the file line by line, and tokenize each line that it reads in.    Try running the code by selecting the box and typing `Shift-Return`, i.e., hit the carriage return key while you are holding the shift key.   It may take a few seconds to run."
      ]
    },
    {
      "cell_type": "code",
      "metadata": {
        "colab": {
          "base_uri": "https://localhost:8080/"
        },
        "deletable": false,
        "id": "YQUhrqdADw5G",
        "tags": [
          "instructions"
        ],
        "outputId": "70c70679-8db3-4205-c985-c0ca9781a15e"
      },
      "source": [
        "# this imports the SimpleTokenize function from the simple_tokenize.py file that you uploaded\n",
        "from simple_tokenize import simple_tokenize\n",
        "\n",
        "# Now, let's tokenize Shakespeare's plays\n",
        "filename = 'Shakespeare.txt'\n",
        "with open(filename) as f:\n",
        "    for line in f:\n",
        "        # tokenize, one line at a time\n",
        "        t = simple_tokenize(line)\n",
        "t"
      ],
      "execution_count": 3,
      "outputs": [
        {
          "output_type": "execute_result",
          "data": {
            "text/plain": [
              "['the', 'end']"
            ]
          },
          "metadata": {
            "tags": []
          },
          "execution_count": 3
        }
      ]
    },
    {
      "cell_type": "markdown",
      "metadata": {
        "deletable": false,
        "id": "5Hf7FVbiDw5H",
        "tags": [
          "instructions"
        ]
      },
      "source": [
        "---\n",
        "### Important\n",
        "\n",
        "The questions that follow ask you to implement functions whose prototypes are given to you. **Do _not_ change the prototypes of the functions. Do _not_ write code outside of the functions.** In particular, do not use the same cell as the function declaration invoke the function.\n",
        "\n",
        "You may use specific cells, identified by `# Your tests here`, for test purposes. Code in these cells will *not* be executed when marking your assignment.\n",
        "\n",
        "---"
      ]
    },
    {
      "cell_type": "markdown",
      "metadata": {
        "deletable": false,
        "id": "23vjzVHSDw5I",
        "tags": [
          "instructions"
        ]
      },
      "source": [
        "#### Question 1  (2/10 marks):\n",
        "After the code has finished running, the notebook will display the resulting output immediately after cell.   In this case, you should see the output `['the', 'end']`. In the next cell, briefly explain why the code produced this output.\n"
      ]
    },
    {
      "cell_type": "markdown",
      "metadata": {
        "deletable": false,
        "id": "eASRhGexDw5I",
        "tags": [
          "answer"
        ]
      },
      "source": [
        "#### Your answer to Question 1:\n",
        "When variable _line_ comes to the last line of text. _t_ will store the _simple_tokenize(\"THE END\")_. So the output will be `['the', 'end']`\n",
        "\n",
        "\n",
        "\n"
      ]
    },
    {
      "cell_type": "markdown",
      "metadata": {
        "deletable": false,
        "id": "XyqvKBp6Dw5J",
        "tags": [
          "instructions"
        ]
      },
      "source": [
        "Now it is time for you to write some code.   Let's find the most frequently appearing tokens in Shakespeare's work.\n",
        "\n",
        "#### Question 2 (4/10 marks):\n",
        "In the next box, implement the function `top_50_tokens` using Python code that return the list of the 50 most frequently appearing tokens and their frequency, i.e., the number of times that each occurs.   Please use the `simple_tokenize` function, without modification, to tokenize the text, so that everyone is working with the same definition of what a token is.   If you wish, feel free to start with the Python code in the box above - just copy it from there and paste it below."
      ]
    },
    {
      "cell_type": "code",
      "metadata": {
        "deletable": false,
        "id": "CTdU0CO3Dw5K",
        "tags": [
          "code"
        ]
      },
      "source": [
        "from simple_tokenize import simple_tokenize\n",
        "\n",
        "def top_50_tokens(filename='Shakespeare.txt'):\n",
        "  with open(filename) as f:\n",
        "    word_counter = {}\n",
        "    for line in f:\n",
        "      t = simple_tokenize(line)\n",
        "      for word in t:\n",
        "        if word in word_counter:\n",
        "          word_counter[word] += 1\n",
        "        else:\n",
        "          word_counter[word] = 1\n",
        "    word_order = sorted(word_counter, key = word_counter.get, reverse=True)\n",
        "    top_50_tokens_list = []\n",
        "    for i in range(50):\n",
        "      top_50_tokens_list.append(word_order[i] + \": \" + str(word_counter[word_order[i]]))\n",
        "    # In this function, write Python code to find the 50 most frequent tokens in Shakespeare.txt\n",
        "    # Make sure that your code is commented\n",
        "  return top_50_tokens_list\n"
      ],
      "execution_count": 4,
      "outputs": []
    },
    {
      "cell_type": "code",
      "metadata": {
        "deletable": false,
        "id": "G0tWVMiTDw5K",
        "tags": [
          "tests"
        ],
        "outputId": "2ff44070-4d4b-4c56-bb31-803ea532b253",
        "colab": {
          "base_uri": "https://localhost:8080/"
        }
      },
      "source": [
        "# Your tests here\n",
        "top_50_tokens()"
      ],
      "execution_count": 5,
      "outputs": [
        {
          "output_type": "execute_result",
          "data": {
            "text/plain": [
              "['the: 27378',\n",
              " 'and: 26082',\n",
              " 'i: 20717',\n",
              " 'to: 19661',\n",
              " 'of: 17473',\n",
              " 'a: 14723',\n",
              " 'you: 13630',\n",
              " 'my: 12490',\n",
              " 'in: 10996',\n",
              " 'that: 10915',\n",
              " 'is: 9137',\n",
              " 'not: 8512',\n",
              " 'with: 7778',\n",
              " 'me: 7777',\n",
              " 'it: 7692',\n",
              " 'for: 7578',\n",
              " 'be: 6867',\n",
              " 'his: 6859',\n",
              " 'your: 6657',\n",
              " 'this: 6606',\n",
              " 'but: 6277',\n",
              " 'he: 6260',\n",
              " 'have: 5885',\n",
              " 'as: 5744',\n",
              " 'thou: 5491',\n",
              " 'him: 5205',\n",
              " 'so: 5056',\n",
              " 'will: 4977',\n",
              " 'what: 4469',\n",
              " 'thy: 4034',\n",
              " 'all: 3923',\n",
              " 'her: 3850',\n",
              " 'no: 3797',\n",
              " 'by: 3768',\n",
              " 'do: 3753',\n",
              " 'shall: 3592',\n",
              " 'if: 3500',\n",
              " 'are: 3405',\n",
              " 'we: 3298',\n",
              " 'thee: 3180',\n",
              " 'on: 3062',\n",
              " 'lord: 3062',\n",
              " 'our: 3061',\n",
              " 'king: 2871',\n",
              " 'good: 2834',\n",
              " 'now: 2789',\n",
              " 'sir: 2763',\n",
              " 'from: 2640',\n",
              " 'o: 2621',\n",
              " 'come: 2519']"
            ]
          },
          "metadata": {
            "tags": []
          },
          "execution_count": 5
        }
      ]
    },
    {
      "cell_type": "markdown",
      "metadata": {
        "deletable": false,
        "id": "jFFC9DWxDw5L",
        "tags": [
          "instructions"
        ]
      },
      "source": [
        "Be sure to test the code that you have written by running it.   When you submit your notebook to us, we will run your code when we mark you assignment.   As a sanity test on you output, our reference implementation finds that the most frequent word is \"the\", which occurs 27378 times.\n",
        "\n",
        "---\n",
        "\n",
        "Once you have found the 50 most frequent tokens, let's move on to something slightly more complicated.\n",
        "\n",
        "#### Question 3 (4/10 marks):\n",
        "\n",
        "Instead of the most frequent tokens appearing in Shakespeare's works, suppose that we want a list of words that appear after the word \"perfect\", on the same line, in Shakespeare's text. \n",
        "(Note: the \"words\" we are interested in for this question are tokens, as returned by simple_tokenize.)\n",
        "\n",
        "For example, *All's Well That Ends Well* includes the line\n",
        ">  Ere I can perfect mine intents, to kneel.\n",
        "\n",
        "so \"mine\" should be part of the output, since it follows \"perfect\" on this line.  To keep the output from getting too long, include only words that appear after \"perfect\" on more than one line.\n",
        "\n",
        "In the next box, implement the function `perfect_x` that returns a dictionary of key/value pairs, where the keys are the words that follow perfect on more than one line, and the values the number of lines in which the pattern is observed. For instance, if 'x' follows 'perfect' on 3 different lines, the entry in the dictionary will be ('x':3) As a sanity check on your output, our reference implementation finds 5 such words."
      ]
    },
    {
      "cell_type": "code",
      "metadata": {
        "deletable": false,
        "id": "xe-JSeFYDw5M",
        "tags": [
          "code"
        ]
      },
      "source": [
        "from simple_tokenize import simple_tokenize\n",
        "\n",
        "def perfect_x(filename = 'Shakespeare.txt'):\n",
        "  with open(filename) as f:\n",
        "    word_counter = {}\n",
        "    for line in f:\n",
        "      t = simple_tokenize(line)\n",
        "      for i in range(len(t)):\n",
        "        if (t[i] == 'perfect') & (i != len(t)-1):\n",
        "          if t[i+1] in word_counter:\n",
        "            word_counter[t[i+1]] += 1\n",
        "          else:\n",
        "            word_counter[t[i+1]] = 1\n",
        "\n",
        "    perfect_x_dict = {}\n",
        "    for word in word_counter:\n",
        "      if word_counter[word] > 1:\n",
        "        perfect_x_dict[word] = word_counter[word]\n",
        "    # In this function, write Python code to find tokens that follow \"perfect\" in Shakespeare.txt \n",
        "    # Make sure that your code is commented\n",
        "    return perfect_x_dict\n"
      ],
      "execution_count": 6,
      "outputs": []
    },
    {
      "cell_type": "code",
      "metadata": {
        "colab": {
          "base_uri": "https://localhost:8080/"
        },
        "deletable": false,
        "id": "NoSRbXiMDw5M",
        "tags": [
          "tests"
        ],
        "outputId": "16a70247-51ac-4e72-93a0-c98fa7fda793"
      },
      "source": [
        "# Your tests here\n",
        "perfect_x()"
      ],
      "execution_count": 7,
      "outputs": [
        {
          "output_type": "execute_result",
          "data": {
            "text/plain": [
              "{'honour': 2, 'in': 4, 'love': 4, 'that': 2, 'yellow': 2}"
            ]
          },
          "metadata": {
            "tags": []
          },
          "execution_count": 7
        }
      ]
    },
    {
      "cell_type": "markdown",
      "metadata": {
        "deletable": false,
        "id": "Q17qkDyRDw5M",
        "tags": [
          "instructions"
        ]
      },
      "source": [
        " When you are finished and ready to submit your assignment, download your .ipynb notebook file from Colab (File>Download .ipynb) to your machine, and then follow the submission instructions in the assignment."
      ]
    }
  ]
}
