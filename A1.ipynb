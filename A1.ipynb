{
 "cells": [
  {
   "cell_type": "markdown",
   "metadata": {
    "id": "YLRqn3y2NfJi"
   },
   "source": [
    "## CS431/631 Big Data Infrastructure\n",
    "### Winter 2021 - Assignment 1\n",
    "---"
   ]
  },
  {
   "cell_type": "markdown",
   "metadata": {
    "id": "K2dtUlLTNfJl"
   },
   "source": [
    "**Please edit this (text) cell to provide your name and UW student ID number!**\n",
    "* **Name:** Yifu Zhang\n",
    "* **ID:** y2644zha"
   ]
  },
  {
   "cell_type": "markdown",
   "metadata": {
    "id": "z3DCzT-rNfJm"
   },
   "source": [
    "---\n",
    "#### Overview\n",
    "For this assignment, you will be using Python to analyze the [pointwise mutual information (PMI)](http://en.wikipedia.org/wiki/Pointwise_mutual_information) of tokens in the text of Shakespeare's plays.    For this assignment, you will need the same text file (`Shakespeare.txt`) that you used for Assignment 0.   You will also need the Python tokenizer module, `simple_tokenize.py`.\n",
    "\n",
    "If two events $x$ and $y$ are independent, their PMI will be zero.   A positive PMI indicates that $x$ and $y$ are more likely to co-occur than they would be if they were independent.   Similarly, a negative PMI indicates that $x$ and $y$ are less likely to co-occur.   The PMI of events $x$ and $y$ is given by\n",
    "\\begin{equation*}\n",
    "PMI(x,y) = \\log\\frac{p(x,y)}{p(x)p(y)}\n",
    "\\end{equation*}\n",
    "where $p(x)$ and $p(y)$ are the probabilities of occurrence of events $x$ and $y$, and $p(x,y)$ is the probability of co-occurrence of $x$ and $y$.\n",
    "\n",
    "For this assignment, the \"events\" that we are interested in are occurrences of tokens on lines of text in the input file.   For example, one event\n",
    "might represent the occurence of the token \"fire\" a line of text, and another might represent the occurrence of the token \"peace\".   In that case, $p(fire)$ represents the probability that \"fire\" will occur on a line of text, and $p(fire,peace)$ represents the probability that *both* \"fire\" and \"peace\" will occur on the *same* line.   For the purposes of these PMI computations, it does not matter how many times a given token occures on a single line.   Either a line contains a particular token (at least once), or it does not.   For example, consider this line of text:\n",
    "\n",
    "> three three three, said thrice\n",
    "\n",
    "For this line, the following token-pair events have occurred:\n",
    "- (three, said)\n",
    "- (three, thrice)\n",
    "- (said, three)\n",
    "- (said, thrice)\n",
    "- (thrice, three)\n",
    "- (thrice, said)\n",
    "\n",
    "Note that we are not interested in \"reflexive\" pairs, such as (thrice,thrice).\n",
    "\n",
    "In addition to the probabilities of events, we will also be interested in the absolute *number* of occurences of particular events, e.g., the number of lines in which \"fire\" occurs.   We will use $n(x)$ to represent the these numbers.\n",
    "\n",
    "Your main task for this assignment is to write Python code to analyze the PMI of tokens from Shakespeare's plays.    Based this analysis, we want to be able to answer two types of queries:\n",
    "\n",
    "* Two-Token Queries: Given a pair of tokens, $x$ and $y$, report the number of lines on which that pair co-occurs ($n(x,y)$) as well as $PMI(x,y)$.\n",
    "* One-Token Queries: Given a single token, $x$, report the number of lines on which that token occurs ($n(x)$).   In addition, report the five tokens that have the largest PMI with respect to $x$ (and their PMIs).   That is, report the five $y$'s for which $PMI(x,y)$ is largest.\n",
    "\n",
    "To avoid reporting spurious results for the one-token queries, we are only interested in token pairs that co-occur a sufficient number of times.   Therefore, we will use a *threshold* parameter for one-token queries.   A one-token query should only report pairs of tokens that co-occur at least *threshold* times in the input.   For example, given the threshold 12, a one-token query for \"fire\" the should report the five tokens that have the largest PMI (with respect to \"fire\") among all tokens that co-occur with \"fire\" on at least 12 lines.   If there are fewer than five such tokens, report fewer than five.\n",
    "\n"
   ]
  },
  {
   "cell_type": "markdown",
   "metadata": {
    "id": "pBJ1H1i_ENGE"
   },
   "source": [
    "Run the next block to download the text file (`Shakespeare.txt`) and the Python tokenizer module (`simple_tokenize.py`)."
   ]
  },
  {
   "cell_type": "code",
   "execution_count": 1,
   "metadata": {
    "id": "rcXDTtuqENqF"
   },
   "outputs": [],
   "source": [
    "!wget -q https://student.cs.uwaterloo.ca/~cs451/content/cs431/Shakespeare.txt\n",
    "!wget -q https://student.cs.uwaterloo.ca/~cs451/content/cs431/simple_tokenize.py"
   ]
  },
  {
   "cell_type": "markdown",
   "metadata": {
    "id": "BVFO1bonNfJo"
   },
   "source": [
    "---\n",
    "#### Question 1  (2/10 marks):\n",
    "\n",
    "Before writing code to handle the PMI queries, start writing some code to answer some simpler questions that give an\n",
    "idea of how big the PMI analysis problem will be.   The box below contains some starter code that reads in the 'Shakespeare.txt' file and tokenizes it one line at time.   (This is the same code you started with for Assignment 0.)  Extend this code to determine (a) the number of *distinct* tokens that exist in 'Shakespeare.txt', and (b) the number of \n",
    "distinct token pairs that exist in 'Shakespeare.txt'.  For the purposes of this question, consider the token pair $x,y$ to be distinct from the pair $y,x$, i.e., count them both.   Ignore token pairs of the form $x,x$."
   ]
  },
  {
   "cell_type": "code",
   "execution_count": 2,
   "metadata": {
    "id": "AWP7tAfsNfJp"
   },
   "outputs": [
    {
     "name": "stdout",
     "output_type": "stream",
     "text": [
      "Number of distinct tokens = 25975\n",
      "Number of distinct token pairs = 1969760\n"
     ]
    }
   ],
   "source": [
    "# this imports the SimpleTokenize function from the simple_tokenize.py file that you uploaded\n",
    "from simple_tokenize import simple_tokenize\n",
    "\n",
    "data_dic = {}\n",
    "token_list = []\n",
    "# Now, let's tokenize Shakespeare's plays\n",
    "with open('Shakespeare.txt') as f:\n",
    "    for line in f:\n",
    "        # tokenize, one line at a time\n",
    "        t = simple_tokenize(line)\n",
    "        \n",
    "        unique_list = []\n",
    "        for word in t:\n",
    "            if word in unique_list:\n",
    "                continue\n",
    "            else:\n",
    "                unique_list.append(word)\n",
    "                \n",
    "            if word in token_list:\n",
    "                continue\n",
    "            else:\n",
    "                token_list.append(word)\n",
    "                \n",
    "        unique_len = len(unique_list)\n",
    "        for word in unique_list:\n",
    "            # print(word)\n",
    "            word_pos = unique_list.index(word)\n",
    "            pos = 0\n",
    "            while (pos != word_pos) or (pos <= unique_len-1):\n",
    "                if pos == word_pos:\n",
    "                    pos += 1\n",
    "                    continue\n",
    "                if pos > unique_len-1:\n",
    "                    break\n",
    "                if (unique_list[pos] == unique_list[word_pos]):\n",
    "                    pos += 1\n",
    "                    continue\n",
    "                if (word, unique_list[pos]) in data_dic:\n",
    "                    data_dic[(word, unique_list[pos])] += 1\n",
    "                else:\n",
    "                    data_dic[(word, unique_list[pos])] = 1\n",
    "                # print(pos)\n",
    "                pos += 1\n",
    "                \n",
    "    print(\"Number of distinct tokens =\", len(token_list))\n",
    "    print(\"Number of distinct token pairs =\", len(data_dic))\n",
    "\n",
    "# extend this code to answer Question 1.\n",
    "# when your code is executed, it should print the number of distinct tokens and the number of distinct token pairs"
   ]
  },
  {
   "cell_type": "markdown",
   "metadata": {
    "id": "PpFi9CxkNfJq"
   },
   "source": [
    "---\n",
    "\n",
    "#### Question 2 (6/10 marks):\n",
    "Next, write Python code to answer the one-token and two-token queries described above, for 'Shakespeare.txt'.   The code cell below contains some starter code that implements a simple text-based query interface.  It allows a user to ask a series of one-token or two-token queries.   Try running the starter code to get a sense of how the interface behaves.    \n",
    "\n",
    "Your task is to write code to read and tokenize 'Shakespeare.txt', record information that will allow both types of PMI queries to be answered, and then answer queries that are posed through the query interface.  Make sure that your code is well commented, so that it will be clear to the markers.\n",
    "\n",
    "If you cannot get answers to both types of queries working, try to get at least one type working, for partial credit.\n"
   ]
  },
  {
   "cell_type": "code",
   "execution_count": 3,
   "metadata": {
    "id": "3of7ltFENfJr"
   },
   "outputs": [
    {
     "name": "stdout",
     "output_type": "stream",
     "text": [
      "Input 1 or 2 space-separated tokens (return to quit): fire\n",
      "Input a positive integer frequency threshold: 12\n",
      "out\n",
      "  n(fire) = 259\n",
      "  high PMI tokens with respect to fire (threshold: 12):\n",
      "    n(fire,out) = 13,  PMI(fire,out) = 0.644679634005233\n",
      "    n(fire,on) = 16,  PMI(fire,on) = 0.4053204107137161\n",
      "    n(fire,as) = 24,  PMI(fire,as) = 0.36319843154380427\n",
      "    n(fire,with) = 30,  PMI(fire,with) = 0.27374667155200966\n",
      "    n(fire,the) = 94,  PMI(fire,the) = 0.26220897812374616\n",
      "Input 1 or 2 space-separated tokens (return to quit): fire peace\n",
      "  n(fire,peace) = 1\n",
      "  PMI(fire,peace) = -0.0277431383231655\n",
      "Input 1 or 2 space-separated tokens (return to quit): \n"
     ]
    }
   ],
   "source": [
    "# this imports the SimpleTokenize function from the simple_tokenize.py file that you uploaded\n",
    "from simple_tokenize import simple_tokenize\n",
    "# the log function for computing PMI\n",
    "# for the sake of consistency across solutions, please use log base 10\n",
    "from math import log\n",
    "\n",
    "# this imports the SimpleTokenize function from the simple_tokenize.py file that you uploaded\n",
    "from simple_tokenize import simple_tokenize\n",
    "# the log function for computing PMI\n",
    "# for the sake of consistency across solutions, please use log base 10\n",
    "\n",
    "line_count = 0\n",
    "single_dic = {}\n",
    "data_dic = {}\n",
    "\n",
    "with open('Shakespeare.txt') as f:\n",
    "    for line in f:\n",
    "        line_count += 1\n",
    "        # tokenize, one line at a time\n",
    "        t = simple_tokenize(line)\n",
    "        \n",
    "        # unique word in this line\n",
    "        unique_list = []\n",
    "        for word in t:\n",
    "            if word in unique_list:\n",
    "                continue\n",
    "            else:\n",
    "                unique_list.append(word)\n",
    "        # print(unique_list)\n",
    "        \n",
    "        #\n",
    "        unique_len = len(unique_list)\n",
    "        for word in unique_list:\n",
    "            # print(word)\n",
    "            if word in single_dic:\n",
    "                single_dic[word] += 1\n",
    "            else:\n",
    "                single_dic[word] = 1\n",
    "            \n",
    "            word_pos = unique_list.index(word)\n",
    "            pos = 0\n",
    "            while (pos != word_pos) or (pos <= unique_len-1):\n",
    "                if pos == word_pos:\n",
    "                    pos += 1\n",
    "                    continue\n",
    "                if pos > unique_len-1:\n",
    "                    break\n",
    "                if (unique_list[pos] == unique_list[word_pos]):\n",
    "                    pos += 1\n",
    "                    continue\n",
    "                if (word, unique_list[pos]) in data_dic:\n",
    "                    data_dic[(word, unique_list[pos])] += 1\n",
    "                else:\n",
    "                    data_dic[(word, unique_list[pos])] = 1\n",
    "                # print(pos)\n",
    "                pos += 1\n",
    "\n",
    "###################################################################################################################\n",
    "#  the user interface below defines the types of PMI queries that users can ask\n",
    "#  you will need to modify it - where indicated - to access the results of your PMI analysis (above)\n",
    "#  so that the queries can be answered\n",
    "###################################################################################################################\n",
    "\n",
    "while True:\n",
    "    q = input(\"Input 1 or 2 space-separated tokens (return to quit): \")\n",
    "    if len(q) == 0:\n",
    "        break\n",
    "    q_tokens = simple_tokenize(q)\n",
    "    if len(q_tokens) == 1:\n",
    "        threshold = 0\n",
    "        while threshold <= 0:\n",
    "            try:\n",
    "                threshold = int(input(\"Input a positive integer frequency threshold: \"))\n",
    "            except ValueError:\n",
    "                print(\"Threshold must be a positive integer!\")\n",
    "                continue\n",
    "    \n",
    "        PMI_dict = {}\n",
    "    \n",
    "        for pair in data_dic:\n",
    "            if (pair[0] == 'fire') and (data_dic[pair] >= threshold):\n",
    "                PMI_dict[pair] = data_dic[pair]\n",
    "    \n",
    "        for key in PMI_dict:\n",
    "            PMI_dict[key] = log(PMI_dict[key]/single_dic[key[0]]/single_dic[key[1]]*line_count, 10)\n",
    "        \n",
    "        PMI_dict = {k: v for k, v in sorted(PMI_dict.items(), key=lambda item: item[1], reverse=True)[0:5]}\n",
    "        order_keys = list(PMI_dict.keys())\n",
    "            \n",
    "        \n",
    "        # Put code here to answer a One-Token Query with token q_tokens[0] and the specified threshold,\n",
    "        # and output the result.\n",
    "        # The print() statements below exist to show you the desired output format.\n",
    "        # Replace them with your own output code, which should produce results in a similar format.\n",
    "        \n",
    "        print(order_keys[0][1])\n",
    "        print(\"  n({0}) = {1}\".format(q_tokens[0], single_dic[q_tokens[0]]))\n",
    "        print(\"  high PMI tokens with respect to {0} (threshold: {1}):\".format(q_tokens[0],threshold))\n",
    "        print(\"    n({0},{1}) = {2},  PMI({0},{1}) = {3}\".format(q_tokens[0], order_keys[0][1],\n",
    "                                                                 data_dic[order_keys[0]], PMI_dict[order_keys[0]]))   \n",
    "        print(\"    n({0},{1}) = {2},  PMI({0},{1}) = {3}\".format(q_tokens[0], order_keys[1][1],\n",
    "                                                                 data_dic[order_keys[1]], PMI_dict[order_keys[1]]))\n",
    "        print(\"    n({0},{1}) = {2},  PMI({0},{1}) = {3}\".format(q_tokens[0], order_keys[2][1],\n",
    "                                                                 data_dic[order_keys[2]], PMI_dict[order_keys[2]]))\n",
    "        print(\"    n({0},{1}) = {2},  PMI({0},{1}) = {3}\".format(q_tokens[0], order_keys[3][1],\n",
    "                                                                 data_dic[order_keys[3]], PMI_dict[order_keys[3]]))\n",
    "        print(\"    n({0},{1}) = {2},  PMI({0},{1}) = {3}\".format(q_tokens[0], order_keys[4][1],\n",
    "                                                                 data_dic[order_keys[4]], PMI_dict[order_keys[4]]))\n",
    "        # in the above, all XXX values should be at least as large as the threshold\n",
    "\n",
    "    elif len(q_tokens) == 2:\n",
    "        \n",
    "        nxy = data_dic[(q_tokens[0], q_tokens[1])]\n",
    "        nx = single_dic[q_tokens[0]]\n",
    "        ny = single_dic[q_tokens[1]]\n",
    "        ans = log(nxy/nx/ny*line_count, 10)\n",
    "        \n",
    "        # Put code here to answer a Two-Token Query with tokens q_tokens[0] and q_tokens[1]\n",
    "        # As was the case for the One-Token query, the print statements below show the desired output format\n",
    "        # Replace them with your own output code\n",
    "        print(\"  n({0},{1}) = {2}\".format(q_tokens[0],q_tokens[1], data_dic[(q_tokens[0], q_tokens[1])]))\n",
    "        print(\"  PMI({0},{1}) = {2}\".format(q_tokens[0],q_tokens[1], ans))\n",
    "    else:\n",
    "        print(\"Input must consist of 1 or 2 space-separated tokens!\")"
   ]
  },
  {
   "cell_type": "markdown",
   "metadata": {
    "id": "4zjE_iW6NfJt"
   },
   "source": [
    "---\n",
    "\n",
    "#### Question 3 (2/10 marks):\n",
    "\n",
    "Suppose that you try to run your PMI analysis on larger files:  say, 10 times, or 100 times, or 1000 times larger than 'Shakespeare.txt'.    As the input file grows larger, what will happen to the execution of your program?   Will it get slower?   How much slower?   Will it eventually fail to run?   If so, why?\n",
    "\n",
    "In the cell below, briefly (one or two paragraphs), discuss what will happen if the input to your analysis grows.  We're not looking for an exact or empirical analysis of the behaviour of your program as a function of input size.  Rather, we are looking for a discussion of trends and limits."
   ]
  },
  {
   "cell_type": "markdown",
   "metadata": {
    "id": "4SVhvS1tNfJu"
   },
   "source": [
    "#### Answer to Question 3:\n",
    "\n",
    "Since the method I used in _Question2_ is pairs, as the data get larger, the running time will significantly increase, which means it will get much slower. 3 times slower by the graph in lecture. However, it will not fail.\n"
   ]
  },
  {
   "cell_type": "markdown",
   "metadata": {
    "id": "Vsr1IWaDNfJu"
   },
   "source": [
    "---\n",
    "Don't forget to save your workbook!   (It's a good idea to do this regularly, while you are working.)   When you are finished and you are ready to submit your assignment, download your notebook file (.ipynb) from the hub to your machine, and then follow the submission instructions in the assignment."
   ]
  }
 ],
 "metadata": {
  "colab": {
   "name": "A1.ipynb",
   "provenance": []
  },
  "kernelspec": {
   "display_name": "Python 3",
   "language": "python",
   "name": "python3"
  },
  "language_info": {
   "codemirror_mode": {
    "name": "ipython",
    "version": 3
   },
   "file_extension": ".py",
   "mimetype": "text/x-python",
   "name": "python",
   "nbconvert_exporter": "python",
   "pygments_lexer": "ipython3",
   "version": "3.8.3"
  }
 },
 "nbformat": 4,
 "nbformat_minor": 1
}
